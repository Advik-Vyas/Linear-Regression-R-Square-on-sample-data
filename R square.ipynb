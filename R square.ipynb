{
 "cells": [
  {
   "cell_type": "code",
   "execution_count": 2,
   "id": "960dc11d",
   "metadata": {},
   "outputs": [],
   "source": [
    "import pandas as pd\n",
    "\n",
    "#create DataFrame\n",
    "df = pd.DataFrame({'hours': [1, 2, 2, 4, 2, 1, 5, 4, 2, 4, 4, 3, 6],\n",
    "                   'prep_exams': [1, 3, 3, 5, 2, 2, 1, 1, 0, 3, 4, 3, 2],\n",
    "                   'score': [76, 78, 85, 88, 72, 69, 94, 94, 88, 92, 90, 75, 96]})"
   ]
  },
  {
   "cell_type": "code",
   "execution_count": 3,
   "id": "36f03aa1",
   "metadata": {},
   "outputs": [
    {
     "name": "stdout",
     "output_type": "stream",
     "text": [
      "    hours  prep_exams  score\n",
      "0       1           1     76\n",
      "1       2           3     78\n",
      "2       2           3     85\n",
      "3       4           5     88\n",
      "4       2           2     72\n",
      "5       1           2     69\n",
      "6       5           1     94\n",
      "7       4           1     94\n",
      "8       2           0     88\n",
      "9       4           3     92\n",
      "10      4           4     90\n",
      "11      3           3     75\n",
      "12      6           2     96\n"
     ]
    }
   ],
   "source": [
    "print(df)"
   ]
  },
  {
   "cell_type": "code",
   "execution_count": 6,
   "id": "1e005dbb",
   "metadata": {},
   "outputs": [],
   "source": [
    "from sklearn.linear_model import LinearRegression\n",
    "\n",
    "#initiate linear regression model\n",
    "model = LinearRegression()\n",
    "\n",
    "#define predictor and response variables\n",
    "X, y = df[[\"hours\", \"prep_exams\"]], df.score\n",
    "\n",
    "#fit regression model\n",
    "model.fit(X, y)\n",
    "\n",
    "#calculate R-squared of regression model\n",
    "r_squared = model.score(X, y)"
   ]
  },
  {
   "cell_type": "code",
   "execution_count": 7,
   "id": "eabde927",
   "metadata": {},
   "outputs": [
    {
     "name": "stdout",
     "output_type": "stream",
     "text": [
      "0.7175541714105902\n"
     ]
    }
   ],
   "source": [
    "print(r_squared)"
   ]
  }
 ],
 "metadata": {
  "kernelspec": {
   "display_name": "Python 3 (ipykernel)",
   "language": "python",
   "name": "python3"
  },
  "language_info": {
   "codemirror_mode": {
    "name": "ipython",
    "version": 3
   },
   "file_extension": ".py",
   "mimetype": "text/x-python",
   "name": "python",
   "nbconvert_exporter": "python",
   "pygments_lexer": "ipython3",
   "version": "3.9.12"
  }
 },
 "nbformat": 4,
 "nbformat_minor": 5
}
